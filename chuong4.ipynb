{
 "cells": [
  {
   "cell_type": "code",
   "execution_count": 18,
   "id": "46d5c2ab",
   "metadata": {},
   "outputs": [
    {
     "name": "stdout",
     "output_type": "stream",
     "text": [
      "[[ 2  4  3  7  5  6  5  6  8  9  3  6  1  9  8  7  3  3  9  5]\n",
      " [ 3  5  3 10  9  1  9  8  3  1  6  0  7 10  8  5  2  7  7  1]\n",
      " [ 1 10  4  9  6  9  0  2  3  1  8  6  8  4  2  9  2  9  5  0]\n",
      " [ 6  3  0  8  3  7  7  2  6  8  7  3  4  1  5  9  1  0  2 10]\n",
      " [ 4  3  6  7  4  5  2  6  9  4  3  9  9  4  5  7  2 10  9  4]\n",
      " [ 2  3  8 10  4  5  9  5  4  7 10  1  8  4  3  9  6  3  6  7]\n",
      " [ 9  9  1 10  9  9  5  9  6  3  9  5  1 10  7 10  2  8  8  1]\n",
      " [ 8  8  7  8  6  7  7  8  6  7  8  6  7  6  8  8  7  6  8  8]\n",
      " [ 6  7  8  9 10  9  2  2  6  1 10  9  6  3  9  5  9  8  1  1]\n",
      " [ 7  8  7  8  6 10 10  6  8 10  8  9  8  8  5 10  8  7  8  7]]\n",
      "Kieu du lieu cua phan tu trong mang diem_2a: int8\n",
      "So phan tu cua mang diem_2a: 200\n",
      "Kich thuoc của mang diem_2a (10, 20)\n",
      "So chieu cua mang diem_2a: 2\n",
      "Điểm cao nhất của lớp: 10\n",
      "Điểm thấp nhất của lớp: 0\n"
     ]
    }
   ],
   "source": [
    "import numpy as np\n",
    "path ='D:\\KHDL\\khdl\\Diem_2a.txt'\n",
    "diem_2a = np.loadtxt(path,delimiter=',',dtype=np.int8)\n",
    "print(diem_2a)\n",
    "print(\"Kieu du lieu cua phan tu trong mang diem_2a:\",diem_2a.dtype)\n",
    "print(\"So phan tu cua mang diem_2a:\",diem_2a.size)\n",
    "print(\"Kich thuoc của mang diem_2a\",diem_2a.shape)\n",
    "print(\"So chieu cua mang diem_2a:\",diem_2a.ndim)\n",
    "print('Điểm cao nhất của lớp:',diem_2a.max())\n",
    "print('Điểm thấp nhất của lớp:',diem_2a.min())\n"
   ]
  },
  {
   "cell_type": "code",
   "execution_count": 19,
   "id": "8dd3efc2",
   "metadata": {},
   "outputs": [
    {
     "name": "stdout",
     "output_type": "stream",
     "text": [
      "Điểm cao nhất của lớp: 10\n",
      "Điểm thấp nhất của lớp: 0\n"
     ]
    }
   ],
   "source": [
    "print('Điểm cao nhất của lớp:',diem_2a.max())\n",
    "print('Điểm thấp nhất của lớp:',diem_2a.min())\n"
   ]
  },
  {
   "cell_type": "code",
   "execution_count": 25,
   "id": "a7eba811",
   "metadata": {},
   "outputs": [
    {
     "name": "stdout",
     "output_type": "stream",
     "text": [
      "Tổng tất cả các điểm trong các lớp 2A: 1184\n",
      "-----------------------------------------------------\n",
      "Tổng điểm các môn của học sinh 0 : 48\n",
      "Điểm trung bình các môn của học sinh 0 : 4.8\n",
      "Tổng điểm các môn của học sinh 1 : 60\n",
      "Điểm trung bình các môn của học sinh 1 : 6.0\n",
      "Tổng điểm các môn của học sinh 2 : 47\n",
      "Điểm trung bình các môn của học sinh 2 : 4.7\n",
      "Tổng điểm các môn của học sinh 3 : 86\n",
      "Điểm trung bình các môn của học sinh 3 : 8.6\n",
      "Tổng điểm các môn của học sinh 4 : 62\n",
      "Điểm trung bình các môn của học sinh 4 : 6.2\n",
      "Tổng điểm các môn của học sinh 5 : 68\n",
      "Điểm trung bình các môn của học sinh 5 : 6.8\n",
      "Tổng điểm các môn của học sinh 6 : 56\n",
      "Điểm trung bình các môn của học sinh 6 : 5.6\n",
      "Tổng điểm các môn của học sinh 7 : 54\n",
      "Điểm trung bình các môn của học sinh 7 : 5.4\n",
      "Tổng điểm các môn của học sinh 8 : 59\n",
      "Điểm trung bình các môn của học sinh 8 : 5.9\n",
      "Tổng điểm các môn của học sinh 9 : 51\n",
      "Điểm trung bình các môn của học sinh 9 : 5.1\n",
      "Tổng điểm các môn của học sinh 10 : 72\n",
      "Điểm trung bình các môn của học sinh 10 : 7.2\n",
      "Tổng điểm các môn của học sinh 11 : 54\n",
      "Điểm trung bình các môn của học sinh 11 : 5.4\n",
      "Tổng điểm các môn của học sinh 12 : 59\n",
      "Điểm trung bình các môn của học sinh 12 : 5.9\n",
      "Tổng điểm các môn của học sinh 13 : 59\n",
      "Điểm trung bình các môn của học sinh 13 : 5.9\n",
      "Tổng điểm các môn của học sinh 14 : 60\n",
      "Điểm trung bình các môn của học sinh 14 : 6.0\n",
      "Tổng điểm các môn của học sinh 15 : 79\n",
      "Điểm trung bình các môn của học sinh 15 : 7.9\n",
      "Tổng điểm các môn của học sinh 16 : 42\n",
      "Điểm trung bình các môn của học sinh 16 : 4.2\n",
      "Tổng điểm các môn của học sinh 17 : 61\n",
      "Điểm trung bình các môn của học sinh 17 : 6.1\n",
      "Tổng điểm các môn của học sinh 18 : 63\n",
      "Điểm trung bình các môn của học sinh 18 : 6.3\n",
      "Tổng điểm các môn của học sinh 19 : 44\n",
      "Điểm trung bình các môn của học sinh 19 : 4.4\n"
     ]
    }
   ],
   "source": [
    "print('Tổng tất cả các điểm trong các lớp 2A:',diem_2a.sum())\n",
    "print('-----------------------------------------------------')\n",
    "for i in range(0,diem_2a.shape[1]):\n",
    "    print('Tổng điểm các môn của học sinh',i,':',diem_2a[:,i].sum())\n",
    "    print('Điểm trung bình các môn của học sinh',i,':',diem_2a[:,i].mean())"
   ]
  },
  {
   "cell_type": "code",
   "execution_count": null,
   "id": "21c48131",
   "metadata": {},
   "outputs": [],
   "source": []
  }
 ],
 "metadata": {
  "kernelspec": {
   "display_name": "Python 3 (ipykernel)",
   "language": "python",
   "name": "python3"
  },
  "language_info": {
   "codemirror_mode": {
    "name": "ipython",
    "version": 3
   },
   "file_extension": ".py",
   "mimetype": "text/x-python",
   "name": "python",
   "nbconvert_exporter": "python",
   "pygments_lexer": "ipython3",
   "version": "3.11.4"
  }
 },
 "nbformat": 4,
 "nbformat_minor": 5
}
